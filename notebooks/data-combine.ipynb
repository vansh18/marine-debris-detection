{
 "cells": [
  {
   "cell_type": "code",
   "execution_count": null,
   "metadata": {},
   "outputs": [
    {
     "name": "stdout",
     "output_type": "stream",
     "text": [
      "Annotations converted and saved to combined_annotations.json\n"
     ]
    }
   ],
   "source": [
    "import os\n",
    "import json\n",
    "import xml.etree.ElementTree as ET\n",
    "from PIL import Image\n",
    "\n",
    "# Directory paths\n",
    "kaggle_annotations_dir = '../data/kaggle-dataset/train'\n",
    "kaggle_images_dir = \"../data/kaggle-dataset/train\"\n",
    "output_json_file = \"combined_annotations.json\"\n",
    "\n",
    "# Initialize COCO format dictionary\n",
    "coco_format = {\n",
    "    \"info\": {\n",
    "        \"description\": \"TrashCAN Segmentation Dataset\",\n",
    "        \"url\": \"N/A\",\n",
    "        \"version\": \"0.5\",\n",
    "        \"year\": 2020,\n",
    "        \"contributor\": \"YourNameOrOrganization\",\n",
    "        \"date_created\": \"2024/12/07\"\n",
    "    },\n",
    "    \"licenses\": [\n",
    "        {\n",
    "            \"url\": \"http://creativecommons.org/licenses/by-nc-sa/2.0/\",\n",
    "            \"id\": 1,\n",
    "            \"name\": \"Attribution-NonCommercial-ShareAlike License\"\n",
    "        }\n",
    "    ],\n",
    "    \"images\": [],\n",
    "    \"annotations\": []\n",
    "}\n",
    "\n",
    "\n",
    "annotation_id = 1\n",
    "\n",
    "\n",
    "def parse_xml(file_path, image_id):\n",
    "    tree = ET.parse(file_path)\n",
    "    root = tree.getroot()\n",
    "    annotations = []\n",
    "    \n",
    "    for obj in root.findall(\"object\"):\n",
    "        class_name = obj.find(\"name\").text\n",
    "        bbox = obj.find(\"bndbox\")\n",
    "        xmin = int(bbox.find(\"xmin\").text)\n",
    "        ymin = int(bbox.find(\"ymin\").text)\n",
    "        xmax = int(bbox.find(\"xmax\").text)\n",
    "        ymax = int(bbox.find(\"ymax\").text)\n",
    "        width = xmax - xmin\n",
    "        height = ymax - ymin\n",
    "        \n",
    "        annotation = {\n",
    "            \"id\": len(coco_format[\"annotations\"]) + 1,\n",
    "            \"image_id\": image_id,\n",
    "            \"category_id\": 1,\n",
    "            \"bbox\": [xmin, ymin, width, height],\n",
    "            \"area\": width * height,\n",
    "            \"iscrowd\": 0\n",
    "        }\n",
    "        annotations.append(annotation)\n",
    "    \n",
    "    return annotations\n",
    "\n",
    "\n",
    "image_id = 6009\n",
    "for file_name in os.listdir(kaggle_annotations_dir):\n",
    "    file_path = os.path.join(kaggle_annotations_dir, file_name)\n",
    "    if file_name.endswith(\".xml\"):\n",
    "\n",
    "        image_name = file_name.replace(\".xml\", \".jpg\")\n",
    "        image_path = os.path.join(kaggle_images_dir, image_name)\n",
    "        \n",
    "        if not os.path.exists(image_path):\n",
    "            continue\n",
    "        \n",
    "\n",
    "        with Image.open(image_path) as img:\n",
    "            width, height = img.size\n",
    "        \n",
    "\n",
    "        coco_format[\"images\"].append({\n",
    "            \"id\": image_id,\n",
    "            \"file_name\": image_name,\n",
    "            \"width\": width,\n",
    "            \"height\": height\n",
    "        })\n",
    "        \n",
    "\n",
    "        annotations = parse_xml(file_path, image_id)\n",
    "        coco_format[\"annotations\"].extend(annotations)\n",
    "        image_id += 1\n",
    "\n",
    "\n",
    "with open(output_json_file, \"w\") as json_file:\n",
    "    json.dump(coco_format, json_file, indent=4)\n",
    "\n",
    "print(f\"Annotations converted and saved to {output_json_file}\")"
   ]
  },
  {
   "cell_type": "code",
   "execution_count": 10,
   "metadata": {},
   "outputs": [
    {
     "name": "stdout",
     "output_type": "stream",
     "text": [
      "Annotations combined and saved to instanes_train_trashcan.json\n"
     ]
    }
   ],
   "source": [
    "#combining the combined_annotations.json with instances_train_trashcan.json\n",
    "with open('combined_annotations.json') as f:\n",
    "    data = json.load(f)\n",
    "with open('data/material_version/instances_train_trashcan.json') as f:\n",
    "    data2 = json.load(f)\n",
    "\n",
    "data['categories'] = data2['categories']\n",
    "data['info'] = data2['info']\n",
    "data['licenses'] = data2['licenses']\n",
    "\n",
    "with open('combined_annotations.json', 'w') as f:\n",
    "    json.dump(data, f)\n",
    "\n",
    "print(f\"Annotations combined and saved to instanes_train_trashcan.json\")"
   ]
  },
  {
   "cell_type": "code",
   "execution_count": null,
   "metadata": {},
   "outputs": [
    {
     "name": "stdout",
     "output_type": "stream",
     "text": [
      "Images combined and saved to data/material_version/train\n"
     ]
    }
   ],
   "source": [
    "# combining the imaages from kaggle-dataset and material_version\n",
    "import shutil\n",
    "import os\n",
    "\n",
    "src = 'data/kaggle-dataset/train'\n",
    "dst = 'data/material_version/train'\n",
    "\n",
    "for file in os.listdir(src):\n",
    "    if file.endswith(\".jpg\"):\n",
    "        shutil.copy(os.path.join(src, file), dst)\n",
    "\n",
    "print(f\"Images combined and saved to data/material_version/train\")"
   ]
  }
 ],
 "metadata": {
  "kernelspec": {
   "display_name": "Python 3",
   "language": "python",
   "name": "python3"
  },
  "language_info": {
   "codemirror_mode": {
    "name": "ipython",
    "version": 3
   },
   "file_extension": ".py",
   "mimetype": "text/x-python",
   "name": "python",
   "nbconvert_exporter": "python",
   "pygments_lexer": "ipython3",
   "version": "3.10.11"
  }
 },
 "nbformat": 4,
 "nbformat_minor": 2
}
