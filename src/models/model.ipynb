{
 "cells": [
  {
   "cell_type": "code",
   "execution_count": null,
   "metadata": {
    "colab": {
     "base_uri": "https://localhost:8080/"
    },
    "id": "Z5TjLdAmQ0Z1",
    "outputId": "0077159d-b721-4bfe-d5d9-f80c3e2c4750"
   },
   "outputs": [],
   "source": [
    "from IPython import display\n",
    "display.clear_output()\n",
    "\n",
    "import ultralytics\n",
    "ultralytics.checks()"
   ]
  },
  {
   "cell_type": "code",
   "execution_count": null,
   "metadata": {
    "id": "09iQdhDwRlm0"
   },
   "outputs": [],
   "source": [
    "from ultralytics import YOLO\n",
    "import pandas as pd\n",
    "from IPython.display import display, Image\n",
    "import shutil\n",
    "\n",
    "import os\n",
    "import re\n",
    "import json\n",
    "from pylabel import importer\n",
    "import matplotlib.pyplot as plt\n",
    "import matplotlib.patches as mpatches\n",
    "pd.set_option('display.max_columns', None)\n"
   ]
  },
  {
   "cell_type": "code",
   "execution_count": null,
   "metadata": {
    "execution": {
     "iopub.execute_input": "2024-02-07T05:42:58.876781Z",
     "iopub.status.busy": "2024-02-07T05:42:58.876412Z",
     "iopub.status.idle": "2024-02-07T05:42:58.886699Z",
     "shell.execute_reply": "2024-02-07T05:42:58.885627Z",
     "shell.execute_reply.started": "2024-02-07T05:42:58.876749Z"
    },
    "id": "nuE2975ENheu",
    "trusted": true
   },
   "outputs": [],
   "source": [
    "HOME = os.getcwd()\n",
    "train_path = \"../../data/material_version/train\"\n",
    "valid_path = \"../../data/material_version/val\"\n",
    "\n",
    "train_annots = \"../../data/material_version/instances_train_trashcan.json\"\n",
    "valid_annots = \"../../data/material_version/instances_val_trashcan.json\"\n",
    "\n",
    "destination_path = f\"{HOME}/destination\"\n",
    "\n",
    "results = \"reports/results\""
   ]
  },
  {
   "cell_type": "code",
   "execution_count": null,
   "metadata": {
    "id": "p6CU7zPA-f9f"
   },
   "outputs": [],
   "source": [
    "class ScriptUtilities:\n",
    "    @staticmethod\n",
    "    def json_viewer(annots_json):\n",
    "        # Read the JSON file\n",
    "        with open(annots_json, 'r') as file:\n",
    "            annotations_data = json.load(file)\n",
    "\n",
    "        # Display information for the top 5 images\n",
    "        for image_info in annotations_data['images'][:5]:\n",
    "            print(f\"Image ID: {image_info['id']}\")\n",
    "            print(f\"File Name: {image_info['file_name']}\")\n",
    "            print(f\"Height: {image_info['height']}, Width: {image_info['width']}\")\n",
    "            print(f\"Date Captured: {image_info['date_captured']}\")\n",
    "            print(\"----------------------\")\n",
    "\n",
    "        # View content under 'annotations' key\n",
    "        if 'annotations' in annotations_data:\n",
    "            print(\"Annotations:\")\n",
    "            for annotation in annotations_data['annotations'][:5]:\n",
    "                print(annotation)\n",
    "                print(\"----------------------\")\n",
    "        else:\n",
    "            print(\"No 'annotations' key found in the JSON data.\")\n",
    "\n",
    "    @staticmethod\n",
    "    def json_tree(annots_json):\n",
    "        # Read the JSON file\n",
    "        with open(annots_json, 'r') as file:\n",
    "            annotations_data = json.load(file)\n",
    "        # Print the keys at the top level of the JSON structure\n",
    "        print(annotations_data.keys())\n",
    "\n",
    "    @staticmethod\n",
    "    def coco_to_yolo_converter(annots_json, path_to_images, name):\n",
    "        dataset = importer.ImportCoco(annots_json, path_to_images=path_to_images, name=name)\n",
    "\n",
    "        return dataset"
   ]
  },
  {
   "cell_type": "code",
   "execution_count": null,
   "metadata": {
    "id": "h0UOPqSXEe-9"
   },
   "outputs": [],
   "source": [
    "# Train dataset\n",
    "train_dataset = ScriptUtilities.coco_to_yolo_converter(train_annots, train_path, name=\"BCCD_train_coco\")\n",
    "\n",
    "# Valid dataset\n",
    "valid_dataset = ScriptUtilities.coco_to_yolo_converter(valid_annots, valid_path, name=\"BCCD_valid_coco\")"
   ]
  },
  {
   "cell_type": "code",
   "execution_count": null,
   "metadata": {
    "colab": {
     "base_uri": "https://localhost:8080/",
     "height": 431
    },
    "id": "ee85FYz0FUzK",
    "outputId": "34a4ff0d-df00-4293-82e0-75ca1ae07b25"
   },
   "outputs": [],
   "source": [
    "train_dataset.df.sample(5)\n"
   ]
  },
  {
   "cell_type": "code",
   "execution_count": null,
   "metadata": {
    "colab": {
     "base_uri": "https://localhost:8080/",
     "height": 431
    },
    "id": "pOJKK1CSFn-V",
    "outputId": "e0176381-a8e1-4773-8d21-8d9b77b93839"
   },
   "outputs": [],
   "source": [
    "valid_dataset.df.sample(5)\n"
   ]
  },
  {
   "cell_type": "code",
   "execution_count": null,
   "metadata": {
    "colab": {
     "base_uri": "https://localhost:8080/"
    },
    "id": "8GRY6VRJFzyS",
    "outputId": "e822c58c-90e0-409c-a7ce-c612e63efb82"
   },
   "outputs": [],
   "source": [
    "dataset_list = [train_dataset, valid_dataset]\n",
    "\n",
    "for dataset in dataset_list:\n",
    "    print(\"\\n\")\n",
    "    print(f\"Number of images: {dataset.analyze.num_images}\")\n",
    "    print(f\"Number of classes: {dataset.analyze.num_classes}\")\n",
    "    print(f\"Classes:{dataset.analyze.classes}\")\n",
    "    print(f\"Class counts:\\n{dataset.analyze.class_counts}\")\n",
    "    print(f\"Path to annotations:\\n{dataset.path_to_annotations}\")"
   ]
  },
  {
   "cell_type": "code",
   "execution_count": null,
   "metadata": {},
   "outputs": [],
   "source": [
    "display(train_dataset.visualize.ShowBoundingBoxes(2))"
   ]
  },
  {
   "cell_type": "code",
   "execution_count": null,
   "metadata": {
    "colab": {
     "base_uri": "https://localhost:8080/"
    },
    "collapsed": true,
    "id": "mtHP-fFdHJwL",
    "outputId": "22a478bc-32da-47a8-f96c-ae6352507693"
   },
   "outputs": [],
   "source": [
    "train_dataset.export.ExportToYoloV5(output_path = f'{destination_path}/training/labels',\n",
    "                              copy_images = True,\n",
    "                              yaml_file = \"dataset.yaml\",\n",
    "                              segmentation = True)"
   ]
  },
  {
   "cell_type": "code",
   "execution_count": null,
   "metadata": {
    "colab": {
     "base_uri": "https://localhost:8080/"
    },
    "collapsed": true,
    "id": "gkTxieCFINEm",
    "outputId": "17b791e9-54d4-482e-8212-8d5bf2d6ce8a"
   },
   "outputs": [],
   "source": [
    "valid_dataset.export.ExportToYoloV5(output_path = f'{destination_path}/valid/labels',\n",
    "                              copy_images = True,\n",
    "                              yaml_file = \"dataset.yaml\",\n",
    "                              segmentation = True)"
   ]
  },
  {
   "cell_type": "code",
   "execution_count": null,
   "metadata": {
    "id": "hkiOmD1oI5xJ"
   },
   "outputs": [],
   "source": [
    "# Note!!! Only run this code once\n",
    "path = f\"destination/training/labels\" #path of labels\n",
    "labels = os.listdir(path)\n",
    "for x in labels:\n",
    "    lines = list()\n",
    "    with open(path+\"/\"+x, \"r+\") as f:\n",
    "        for line in f.read().splitlines():\n",
    "            split_line = line.split(\" \")  # split on space character (and remove newline characters as well)\n",
    "            split_line[0] = str(\n",
    "              int(split_line[0]) - 1)  # update the value inside the loop. the loop used in later not needed.\n",
    "            lines.append(split_line)  # add split list into list of lines\n",
    "\n",
    "    with open(path+\"/\"+x, 'w') as file:  # rewrite to file\n",
    "        for line in lines:\n",
    "            write_me = ' '.join(line)  # Use join method to add the element together\n",
    "            file.write(write_me + \"\\n\")\n",
    "\n",
    "# Code adapted from: hhttps://www.kaggle.com/code/vencerlanz09/insect-images-classification-using-yolov5"
   ]
  },
  {
   "cell_type": "code",
   "execution_count": null,
   "metadata": {
    "id": "h9_XfqMdJl0H"
   },
   "outputs": [],
   "source": [
    "# Note!!! Only run this code once\n",
    "path = f\"destination/valid/labels\" #path of labels\n",
    "labels = os.listdir(path)\n",
    "for x in labels:\n",
    "    lines = list()\n",
    "    with open(path+\"/\"+x, \"r+\") as f:\n",
    "        for line in f.read().splitlines():\n",
    "            split_line = line.split(\" \")  # split on space character (and remove newline characters as well)\n",
    "            split_line[0] = str(\n",
    "              int(split_line[0]) - 1)  # update the value inside the loop. the loop used in later not needed.\n",
    "            lines.append(split_line)  # add split list into list of lines\n",
    "\n",
    "    with open(path+\"/\"+x, 'w') as file:  # rewrite to file\n",
    "        for line in lines:\n",
    "            write_me = ' '.join(line)  # Use join method to add the element together\n",
    "            file.write(write_me + \"\\n\")\n",
    "\n",
    "# Code adapted from: hhttps://www.kaggle.com/code/vencerlanz09/insect-images-classification-using-yolov5"
   ]
  },
  {
   "cell_type": "code",
   "execution_count": null,
   "metadata": {
    "id": "6KmKncqWL41O"
   },
   "outputs": [],
   "source": [
    "os.environ[\"WANDB_MODE\"]=\"offline\""
   ]
  },
  {
   "cell_type": "code",
   "execution_count": null,
   "metadata": {
    "id": "j8WjOvXYL6zf"
   },
   "outputs": [],
   "source": [
    "!rm -f ../destination/training/labels.cache"
   ]
  },
  {
   "cell_type": "code",
   "execution_count": null,
   "metadata": {},
   "outputs": [],
   "source": [
    "import requests\n",
    "\n",
    "url = \"https://github.com/ultralytics/assets/releases/download/v8.1.0/yolov8n-seg.pt\"\n",
    "output_path = \"yolov8n-seg.pt\"\n",
    "\n",
    "response = requests.get(url, stream=True)\n",
    "if response.status_code == 200:\n",
    "    with open(output_path, \"wb\") as f:\n",
    "        f.write(response.content)\n",
    "    print(f\"Downloaded {output_path}\")\n",
    "else:\n",
    "    print(f\"Failed to download file. Status code: {response.status_code}\")\n"
   ]
  },
  {
   "cell_type": "code",
   "execution_count": null,
   "metadata": {
    "id": "CuSJA24yUe-H"
   },
   "outputs": [],
   "source": [
    "# Load a model\n",
    "model = YOLO(f\"yolov8n-seg.pt\")  # load a pretrained model (recommended for training)"
   ]
  },
  {
   "cell_type": "code",
   "execution_count": null,
   "metadata": {
    "colab": {
     "base_uri": "https://localhost:8080/"
    },
    "collapsed": true,
    "id": "KTIjEnj2M90Y",
    "outputId": "81e90d88-b085-4924-fdaf-6080e482f95b"
   },
   "outputs": [],
   "source": [
    "# Train the model\n",
    "results = model.train(data=f\"destination/training/dataset.yaml\", epochs=35, imgsz=(480, 270))"
   ]
  },
  {
   "cell_type": "code",
   "execution_count": null,
   "metadata": {
    "colab": {
     "base_uri": "https://localhost:8080/",
     "height": 435
    },
    "id": "QicrbG2QXtEw",
    "outputId": "ebf5ae05-42d0-4278-c7ee-2fa03f0f9cdf"
   },
   "outputs": [],
   "source": [
    "# Path to the PNG file\n",
    "result_png_path = \"../models/runs/segment/train15/results.png\"\n",
    "\n",
    "# Display the PNG file\n",
    "Image(result_png_path)\n"
   ]
  }
 ],
 "metadata": {
  "accelerator": "GPU",
  "colab": {
   "gpuType": "T4",
   "include_colab_link": true,
   "provenance": [],
   "toc_visible": true
  },
  "kaggle": {
   "accelerator": "none",
   "dataSources": [],
   "dockerImageVersionId": 30646,
   "isGpuEnabled": false,
   "isInternetEnabled": true,
   "language": "python",
   "sourceType": "notebook"
  },
  "kernelspec": {
   "display_name": "Python 3",
   "name": "python3"
  },
  "language_info": {
   "codemirror_mode": {
    "name": "ipython",
    "version": 3
   },
   "file_extension": ".py",
   "mimetype": "text/x-python",
   "name": "python",
   "nbconvert_exporter": "python",
   "pygments_lexer": "ipython3",
   "version": "3.11.5"
  }
 },
 "nbformat": 4,
 "nbformat_minor": 0
}
